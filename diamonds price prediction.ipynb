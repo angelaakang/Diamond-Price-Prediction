{
 "cells": [
  {
   "cell_type": "markdown",
   "id": "896c40af-669e-4e0b-90b5-7145fda54cb9",
   "metadata": {},
   "source": [
    "# Diamond Price Prediction\n",
    "The aim of this analysis is to predict the price of diamonds based on their characteristics. The dataset used for this analysis is the Diamonds dataset from Kaggle. The dataset contains 53940 observations and 10 variables. The variables are as follows:\n"
   ]
  },
  {
   "cell_type": "markdown",
   "id": "1daec17e-8ae6-4312-8433-675554edc862",
   "metadata": {},
   "source": [
    "| Column Name | Description |\n",
    "|:--------|:--------|\n",
    "|  carat |  Weight of the diamond  |\n",
    "|  cut   | Quality of the cut (Fair, Good, Very Good, Premium, Ideal)  |\n",
    "|  color   |  \tDiamond colour, from J (worst) to D (best)   |\n",
    "|  clarity   |  \tHow clear the diamond is (I1 (worst), SI2, SI1, VS2, VS1, VVS2, VVS1, IF (best))   |\n",
    "|  x   |  Length in mm   |\n",
    "|  y   |  \tWidth in mm   |\n",
    "|  z   |  Depth in mm   |\n",
    "|  depth   |  Total depth percentage = z / mean(x, y) = 2 * z / (x + y) (43--79)   |\n",
    "|  table   |  Width of top of diamond relative to widest point (43--95)   |\n",
    "|  price   |  Price in US dollars (326--18,823)   |"
   ]
  },
  {
   "cell_type": "code",
   "execution_count": 34,
   "id": "c071b851-6c2f-4d45-9530-eeb07face618",
   "metadata": {},
   "outputs": [],
   "source": [
    "import numpy as np\n",
    "import pandas as pd\n",
    "import matplotlib.pyplot as plt\n",
    "import seaborn as sns"
   ]
  },
  {
   "cell_type": "code",
   "execution_count": 35,
   "id": "46bec3a5-c2de-42b4-8a0e-f697cf48467c",
   "metadata": {},
   "outputs": [
    {
     "data": {
      "text/html": [
       "<div>\n",
       "<style scoped>\n",
       "    .dataframe tbody tr th:only-of-type {\n",
       "        vertical-align: middle;\n",
       "    }\n",
       "\n",
       "    .dataframe tbody tr th {\n",
       "        vertical-align: top;\n",
       "    }\n",
       "\n",
       "    .dataframe thead th {\n",
       "        text-align: right;\n",
       "    }\n",
       "</style>\n",
       "<table border=\"1\" class=\"dataframe\">\n",
       "  <thead>\n",
       "    <tr style=\"text-align: right;\">\n",
       "      <th></th>\n",
       "      <th>carat</th>\n",
       "      <th>cut</th>\n",
       "      <th>color</th>\n",
       "      <th>clarity</th>\n",
       "      <th>depth</th>\n",
       "      <th>table</th>\n",
       "      <th>price</th>\n",
       "      <th>x</th>\n",
       "      <th>y</th>\n",
       "      <th>z</th>\n",
       "    </tr>\n",
       "  </thead>\n",
       "  <tbody>\n",
       "    <tr>\n",
       "      <th>0</th>\n",
       "      <td>0.23</td>\n",
       "      <td>Ideal</td>\n",
       "      <td>E</td>\n",
       "      <td>SI2</td>\n",
       "      <td>61.5</td>\n",
       "      <td>55.0</td>\n",
       "      <td>326</td>\n",
       "      <td>3.95</td>\n",
       "      <td>3.98</td>\n",
       "      <td>2.43</td>\n",
       "    </tr>\n",
       "    <tr>\n",
       "      <th>1</th>\n",
       "      <td>0.21</td>\n",
       "      <td>Premium</td>\n",
       "      <td>E</td>\n",
       "      <td>SI1</td>\n",
       "      <td>59.8</td>\n",
       "      <td>61.0</td>\n",
       "      <td>326</td>\n",
       "      <td>3.89</td>\n",
       "      <td>3.84</td>\n",
       "      <td>2.31</td>\n",
       "    </tr>\n",
       "    <tr>\n",
       "      <th>2</th>\n",
       "      <td>0.23</td>\n",
       "      <td>Good</td>\n",
       "      <td>E</td>\n",
       "      <td>VS1</td>\n",
       "      <td>56.9</td>\n",
       "      <td>65.0</td>\n",
       "      <td>327</td>\n",
       "      <td>4.05</td>\n",
       "      <td>4.07</td>\n",
       "      <td>2.31</td>\n",
       "    </tr>\n",
       "    <tr>\n",
       "      <th>3</th>\n",
       "      <td>0.29</td>\n",
       "      <td>Premium</td>\n",
       "      <td>I</td>\n",
       "      <td>VS2</td>\n",
       "      <td>62.4</td>\n",
       "      <td>58.0</td>\n",
       "      <td>334</td>\n",
       "      <td>4.20</td>\n",
       "      <td>4.23</td>\n",
       "      <td>2.63</td>\n",
       "    </tr>\n",
       "    <tr>\n",
       "      <th>4</th>\n",
       "      <td>0.31</td>\n",
       "      <td>Good</td>\n",
       "      <td>J</td>\n",
       "      <td>SI2</td>\n",
       "      <td>63.3</td>\n",
       "      <td>58.0</td>\n",
       "      <td>335</td>\n",
       "      <td>4.34</td>\n",
       "      <td>4.35</td>\n",
       "      <td>2.75</td>\n",
       "    </tr>\n",
       "  </tbody>\n",
       "</table>\n",
       "</div>"
      ],
      "text/plain": [
       "   carat      cut color clarity  depth  table  price     x     y     z\n",
       "0   0.23    Ideal     E     SI2   61.5   55.0    326  3.95  3.98  2.43\n",
       "1   0.21  Premium     E     SI1   59.8   61.0    326  3.89  3.84  2.31\n",
       "2   0.23     Good     E     VS1   56.9   65.0    327  4.05  4.07  2.31\n",
       "3   0.29  Premium     I     VS2   62.4   58.0    334  4.20  4.23  2.63\n",
       "4   0.31     Good     J     SI2   63.3   58.0    335  4.34  4.35  2.75"
      ]
     },
     "execution_count": 35,
     "metadata": {},
     "output_type": "execute_result"
    }
   ],
   "source": [
    "df = pd.read_csv('diamonds.csv')\n",
    "df.head()"
   ]
  },
  {
   "cell_type": "markdown",
   "id": "cc034914-7174-47e3-b7a8-aa3bc6232d79",
   "metadata": {},
   "source": [
    "## Data Processing"
   ]
  },
  {
   "cell_type": "code",
   "execution_count": 36,
   "id": "21c84828-fa3c-47f3-9b48-81148a20fcd8",
   "metadata": {},
   "outputs": [
    {
     "data": {
      "text/plain": [
       "(50000, 10)"
      ]
     },
     "execution_count": 36,
     "metadata": {},
     "output_type": "execute_result"
    }
   ],
   "source": [
    "df.shape"
   ]
  },
  {
   "cell_type": "markdown",
   "id": "06333155-a572-4fd7-98ec-dbf96c5c64b3",
   "metadata": {},
   "source": [
    "#check for null-values\n",
    "df.info()"
   ]
  },
  {
   "cell_type": "code",
   "execution_count": null,
   "id": "aed158f7-b8d6-43a6-b10b-d1d52d1fae55",
   "metadata": {},
   "outputs": [],
   "source": [
    "df.describe()"
   ]
  },
  {
   "cell_type": "code",
   "execution_count": null,
   "id": "19ed42b4-8346-4ff3-8de3-389e718390e1",
   "metadata": {},
   "outputs": [],
   "source": [
    "#values of each category\n",
    "print(df.cut.value_counts(),'\\n',df.color.value_counts(),'\\n',df.clarity.value_counts())"
   ]
  },
  {
   "cell_type": "code",
   "execution_count": null,
   "id": "777bd956-3d5b-48ab-b010-45efd495561d",
   "metadata": {},
   "outputs": [],
   "source": [
    "df.head(10)"
   ]
  },
  {
   "cell_type": "code",
   "execution_count": null,
   "id": "ec552dd7-a5eb-4073-9726-aa145dddfa9d",
   "metadata": {},
   "outputs": [],
   "source": [
    "## Exploratory Data Analysis"
   ]
  },
  {
   "cell_type": "code",
   "execution_count": null,
   "id": "ad2a753a-cfbb-44be-a63e-7e17062b5552",
   "metadata": {},
   "outputs": [],
   "source": [
    "sns.histplot(df['price'],bins = 20)"
   ]
  },
  {
   "cell_type": "code",
   "execution_count": null,
   "id": "522d21cd-b558-49ee-8638-d7c542b516d8",
   "metadata": {},
   "outputs": [],
   "source": [
    "sns.histplot(df['carat'],bins=20)"
   ]
  },
  {
   "cell_type": "code",
   "execution_count": null,
   "id": "9d11b69d-b7bb-4bcb-bce6-0c489040ca96",
   "metadata": {},
   "outputs": [],
   "source": [
    "plt.figure(figsize=(5,5))\n",
    "plt.pie(df['cut'].value_counts(),labels=['Ideal','Premium','Very Good','Good','Fair'],autopct='%1.1f%%')\n",
    "plt.title('Cut')\n",
    "plt.show()"
   ]
  },
  {
   "cell_type": "code",
   "execution_count": null,
   "id": "ca8868ce-7a09-4600-bf7d-7f1e991ae83a",
   "metadata": {},
   "outputs": [],
   "source": [
    "plt.figure(figsize=(5,5))\n",
    "plt.bar(df['color'].value_counts().index,df['color'].value_counts())\n",
    "plt.ylabel(\"Number of Diamonds\")\n",
    "plt.xlabel(\"Color\")\n",
    "plt.show()"
   ]
  },
  {
   "cell_type": "code",
   "execution_count": null,
   "id": "af45c698-df83-4f04-9776-2c8fb0c9f97b",
   "metadata": {},
   "outputs": [],
   "source": [
    "plt.figure(figsize=(5,5))\n",
    "plt.bar(df['clarity'].value_counts().index,df['clarity'].value_counts())\n",
    "plt.title('Clarity')\n",
    "plt.ylabel(\"Number of Diamonds\")\n",
    "plt.xlabel(\"Clarity\")\n",
    "plt.show()"
   ]
  },
  {
   "cell_type": "code",
   "execution_count": null,
   "id": "187de845-b7b7-48b1-bb1c-c8507415323a",
   "metadata": {},
   "outputs": [],
   "source": [
    "sns.histplot(df['table'],bins=10)\n",
    "plt.title('Table')\n",
    "plt.show()"
   ]
  },
  {
   "cell_type": "code",
   "execution_count": null,
   "id": "f566ddc6-2cec-4283-9cca-9ef5820e6880",
   "metadata": {},
   "outputs": [],
   "source": [
    "## Comparing Diamond's Features with Price"
   ]
  },
  {
   "cell_type": "code",
   "execution_count": null,
   "id": "20741f28-50c6-49de-bf71-3738659aef07",
   "metadata": {},
   "outputs": [],
   "source": [
    "sns.barplot(x='cut',y='price',data=df)"
   ]
  },
  {
   "cell_type": "code",
   "execution_count": null,
   "id": "2a5d8d06-e51e-4922-a1f3-1c73f8247ec8",
   "metadata": {},
   "outputs": [],
   "source": [
    "sns.barplot(x='color',y='price',data=df)\n",
    "plt.title('Price vs Color')\n",
    "plt.show()"
   ]
  },
  {
   "cell_type": "code",
   "execution_count": null,
   "id": "936bbe93-6aa8-4bfa-830c-000c001226da",
   "metadata": {},
   "outputs": [],
   "source": [
    "sns.barplot(x = 'clarity', y = 'price', data = df)"
   ]
  },
  {
   "cell_type": "code",
   "execution_count": null,
   "id": "fcd966c3-8e8b-461a-b0b1-ebf20b897329",
   "metadata": {},
   "outputs": [],
   "source": [
    "## Data Preprocessing 2"
   ]
  },
  {
   "cell_type": "code",
   "execution_count": null,
   "id": "62f604d3-21a4-4e19-94f5-7af569c14808",
   "metadata": {},
   "outputs": [],
   "source": [
    "#change categorical variables to numerical variables\n",
    "df['cut'] = df['cut'].map({'Ideal':5,'Premium':4,'Very Good':3,'Good':2,'Fair':1})\n",
    "df['color'] = df['color'].map({'D':7,'E':6,'F':5,'G':4,'H':3,'I':2,'J':1})\n",
    "df['clarity'] = df['clarity'].map({'IF':8,'VVS1':7,'VVS2':6,'VS1':5,'VS2':4,'SI1':3,'SI2':2,'I1':1})"
   ]
  },
  {
   "cell_type": "code",
   "execution_count": null,
   "id": "441c649d-973b-4545-8165-375f3c2b90d4",
   "metadata": {},
   "outputs": [],
   "source": [
    "## Coorelation"
   ]
  },
  {
   "cell_type": "code",
   "execution_count": null,
   "id": "bd266e77-0c7e-4bd5-8f4d-ba2b552d00c6",
   "metadata": {},
   "outputs": [],
   "source": [
    "df.corr()"
   ]
  },
  {
   "cell_type": "code",
   "execution_count": null,
   "id": "e2d3a14c-b460-4aaf-bba4-ad6153c6e139",
   "metadata": {},
   "outputs": [],
   "source": [
    "plt.figure(figsize=(10,10))\n",
    "sns.heatmap(df.corr(),annot=True,cmap='coolwarm')\n",
    "plt.title('Correlation Heatmap')\n",
    "plt.show()"
   ]
  },
  {
   "cell_type": "code",
   "execution_count": null,
   "id": "aea7282e-d37c-4b4a-8a5b-985024670b43",
   "metadata": {},
   "outputs": [],
   "source": [
    "### Ploting the relationship between Price and Carat"
   ]
  },
  {
   "cell_type": "code",
   "execution_count": null,
   "id": "7237c568-36a8-47c6-b94f-e1884e16f25e",
   "metadata": {},
   "outputs": [],
   "source": [
    "sns.lineplot(x='carat',y='price',data=df)\n",
    "plt.title('Carat vs Price')\n",
    "plt.show()"
   ]
  },
  {
   "cell_type": "markdown",
   "id": "ba090cb1-36ad-470e-98f2-8f847b113436",
   "metadata": {},
   "source": [
    "The price of the diamond increases as the carat of the diamond increases. Diamonds with less carat also have a high price due to other factors that affect the price."
   ]
  },
  {
   "cell_type": "code",
   "execution_count": null,
   "id": "d68c831b-d909-48c1-a4d4-bb6f31e5e826",
   "metadata": {},
   "outputs": [],
   "source": [
    "fig, ax = plt.subplots(2,3,figsize=(15,5))\n",
    "sns.scatterplot(x='x',y='carat',data=df, ax=ax[0,0])\n",
    "sns.scatterplot(x='y',y='carat',data=df, ax=ax[0,1])\n",
    "sns.scatterplot(x='z',y='carat',data=df, ax=ax[0,2])\n",
    "sns.scatterplot(x='x',y='price',data=df, ax=ax[1,0])\n",
    "sns.scatterplot(x='y',y='price',data=df, ax=ax[1,1])\n",
    "sns.scatterplot(x='z',y='price',data=df, ax=ax[1,2])\n",
    "plt.show()"
   ]
  },
  {
   "cell_type": "code",
   "execution_count": null,
   "id": "a60277e9-1884-44b1-9576-f8041b315b26",
   "metadata": {},
   "outputs": [],
   "source": [
    "Most of the diamonds have x values between 4 and 8, y values between 4 and 10, and z values between 2 and 6. "
   ]
  },
  {
   "cell_type": "code",
   "execution_count": null,
   "id": "188838cf-3554-4195-96b2-ab16f770c2c2",
   "metadata": {},
   "outputs": [],
   "source": [
    "## Model Building"
   ]
  },
  {
   "cell_type": "code",
   "execution_count": null,
   "id": "8fa0a3e9-969b-4d3a-8966-0df4094ad724",
   "metadata": {},
   "outputs": [],
   "source": [
    "### Decision Tree Regressor"
   ]
  },
  {
   "cell_type": "code",
   "execution_count": null,
   "id": "cd01f48f-e203-44bd-96bd-39ec5ce00ef2",
   "metadata": {},
   "outputs": [],
   "source": [
    "from sklearn.tree import DecisionTreeRegressor\n",
    "dt = DecisionTreeRegressor()\n",
    "dt"
   ]
  },
  {
   "cell_type": "code",
   "execution_count": null,
   "id": "4e57c8ec-dc38-4b23-9177-69aec7b25f78",
   "metadata": {},
   "outputs": [],
   "source": [
    "#training the model\n",
    "dt.fit(x_train,y_train)\n",
    "#train accuracy\n",
    "dt.score(x_train,y_train)"
   ]
  },
  {
   "cell_type": "code",
   "execution_count": null,
   "id": "303a34ca-4ecc-4bdd-82fa-1aa484c49e39",
   "metadata": {},
   "outputs": [],
   "source": [
    "#predicting the test set\n",
    "dt_pred = dt.predict(x_test)"
   ]
  },
  {
   "cell_type": "code",
   "execution_count": null,
   "id": "91abaa67-7ad1-4476-a810-48febec5829b",
   "metadata": {},
   "outputs": [],
   "source": [
    "### Random Forest Regressor"
   ]
  },
  {
   "cell_type": "code",
   "execution_count": null,
   "id": "3559cdff-7099-4f40-ac65-b89fcd405b3a",
   "metadata": {},
   "outputs": [],
   "source": [
    "from sklearn.ensemble import RandomForestRegressor\n",
    "rf = RandomForestRegressor()\n",
    "rf"
   ]
  },
  {
   "cell_type": "code",
   "execution_count": null,
   "id": "5a45d540-f7f8-4d6f-8397-6b3d6289ee4d",
   "metadata": {},
   "outputs": [],
   "source": [
    "#training the model\n",
    "rf.fit(x_train,y_train)\n",
    "#train accuracy\n",
    "rf.score(x_train,y_train)"
   ]
  },
  {
   "cell_type": "code",
   "execution_count": null,
   "id": "2c16f6d6-2287-4166-8225-567ca1950b24",
   "metadata": {},
   "outputs": [],
   "source": [
    "#predicting the test set\n",
    "rf_pred = rf.predict(x_test)"
   ]
  },
  {
   "cell_type": "code",
   "execution_count": null,
   "id": "83fb9b19-9970-46a6-925d-e8378d830d92",
   "metadata": {},
   "outputs": [],
   "source": [
    "## Model Evaluation"
   ]
  },
  {
   "cell_type": "code",
   "execution_count": null,
   "id": "3524a030-d31e-40d3-928b-79a7cbed6a94",
   "metadata": {},
   "outputs": [],
   "source": [
    "from sklearn.metrics import mean_squared_error,mean_absolute_error"
   ]
  },
  {
   "cell_type": "code",
   "execution_count": null,
   "id": "8791f662-edba-4b9d-8e8e-8a20f88ee2d7",
   "metadata": {},
   "outputs": [],
   "source": [
    "### Decision Tree Regressor"
   ]
  },
  {
   "cell_type": "code",
   "execution_count": null,
   "id": "d2377ae9-012c-4ad3-9ea3-19f3ce7af5d7",
   "metadata": {},
   "outputs": [],
   "source": [
    "#distribution plot for actual and predicted values\n",
    "ax = sns.distplot(y_test,hist=False,color='r',label='Actual Value')\n",
    "sns.distplot(dt_pred,hist=False,color='b',label='Fitted Values',ax=ax)\n",
    "plt.title('Actual vs Fitted Values for Price')\n",
    "plt.xlabel('Price')\n",
    "plt.ylabel('Proportion of Diamonds')\n",
    "plt.show()"
   ]
  },
  {
   "cell_type": "code",
   "execution_count": null,
   "id": "513ff82d-05ec-4484-a5d4-468140821b5f",
   "metadata": {},
   "outputs": [],
   "source": [
    "print('Decision Tree Regressor RMSE:',np.sqrt(mean_squared_error(y_test,dt_pred)))\n",
    "print('Decision Tree Regressor Accuracy:',dt.score(x_test,y_test))\n",
    "print('Decision Tree Regressor MAE:',mean_absolute_error(y_test,dt_pred))"
   ]
  },
  {
   "cell_type": "code",
   "execution_count": null,
   "id": "4f30a113-3e90-4806-9557-b348a6ed5e95",
   "metadata": {},
   "outputs": [],
   "source": [
    "### Random Forest Regressor"
   ]
  },
  {
   "cell_type": "code",
   "execution_count": null,
   "id": "bbc8332c-e0ea-4bbb-8a8a-91a2945888c8",
   "metadata": {},
   "outputs": [],
   "source": [
    "#distribution plot for actual and predicted values\n",
    "ax = sns.distplot(y_test,hist=False,color='r',label='Actual Value')\n",
    "sns.distplot(rf_pred,hist=False,color='b',label='Fitted Values',ax=ax)\n",
    "plt.title('Actual vs Fitted Values for Price')\n",
    "plt.xlabel('Price')\n",
    "plt.ylabel('Proportion of Diamonds')\n",
    "plt.show()"
   ]
  },
  {
   "cell_type": "code",
   "execution_count": null,
   "id": "4cfdb613-edeb-43a9-ab69-35651ba26de7",
   "metadata": {},
   "outputs": [],
   "source": [
    "print('Random Forest Regressor RMSE:',np.sqrt(mean_squared_error(y_test,rf_pred)))\n",
    "print('Random Forest Regressor Accuracy:',rf.score(x_test,y_test))\n",
    "print('Random Forest Regressor MAE:',mean_absolute_error(y_test,rf_pred))"
   ]
  },
  {
   "cell_type": "code",
   "execution_count": null,
   "id": "a5de2258-aa2d-4253-88ec-653eb065fb69",
   "metadata": {},
   "outputs": [],
   "source": [
    "## Conclusion"
   ]
  },
  {
   "cell_type": "markdown",
   "id": "8f7da1e2-2e15-4a34-9e93-44412e12732e",
   "metadata": {},
   "source": [
    "Both models are useful, but the Random Forest Regressor model is slightly more accurate, therefore would be a better model to use between the two. \n",
    "\n",
    "From the data shown above, as the carat of the diamond increases, the price of the diamond increases. It is also shown that J color and I1 clarity are the worst features for a diamond, but are higher in pricce than some of the other diamonds, which could be a result of other factors that affect the price of the diamond."
   ]
  }
 ],
 "metadata": {
  "kernelspec": {
   "display_name": "Python 3 (ipykernel)",
   "language": "python",
   "name": "python3"
  },
  "language_info": {
   "codemirror_mode": {
    "name": "ipython",
    "version": 3
   },
   "file_extension": ".py",
   "mimetype": "text/x-python",
   "name": "python",
   "nbconvert_exporter": "python",
   "pygments_lexer": "ipython3",
   "version": "3.11.7"
  }
 },
 "nbformat": 4,
 "nbformat_minor": 5
}
